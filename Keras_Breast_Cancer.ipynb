{
 "cells": [
  {
   "cell_type": "code",
   "execution_count": 1,
   "metadata": {},
   "outputs": [],
   "source": [
    "#!pip install keras"
   ]
  },
  {
   "cell_type": "markdown",
   "metadata": {},
   "source": [
    "# Breast Cancer dataset "
   ]
  },
  {
   "cell_type": "code",
   "execution_count": 1,
   "metadata": {},
   "outputs": [
    {
     "name": "stderr",
     "output_type": "stream",
     "text": [
      "E:\\study\\PYTHON\\lib\\site-packages\\h5py\\__init__.py:36: FutureWarning: Conversion of the second argument of issubdtype from `float` to `np.floating` is deprecated. In future, it will be treated as `np.float64 == np.dtype(float).type`.\n",
      "  from ._conv import register_converters as _register_converters\n",
      "Using TensorFlow backend.\n"
     ]
    }
   ],
   "source": [
    "from keras.models import Sequential\n",
    "from keras.layers import Dense"
   ]
  },
  {
   "cell_type": "code",
   "execution_count": 2,
   "metadata": {},
   "outputs": [],
   "source": [
    "model=Sequential()"
   ]
  },
  {
   "cell_type": "markdown",
   "metadata": {},
   "source": [
    "# Dense layers in keras are to be added and then applying compile function to optimize it"
   ]
  },
  {
   "cell_type": "code",
   "execution_count": 3,
   "metadata": {},
   "outputs": [],
   "source": [
    "model.add(Dense(units=32,activation='selu',input_dim=30))\n",
    "model.add(Dense(units=16,activation='selu'))\n",
    "model.add(Dense(units=1,activation='sigmoid'))"
   ]
  },
  {
   "cell_type": "code",
   "execution_count": 4,
   "metadata": {},
   "outputs": [],
   "source": [
    "model.compile(optimizer='adam',loss='binary_crossentropy',metrics=['accuracy'])"
   ]
  },
  {
   "cell_type": "markdown",
   "metadata": {},
   "source": [
    "# Loading breast_cancer dataset .2 Splitting the dataset .3 Scaling the values of the dataset"
   ]
  },
  {
   "cell_type": "code",
   "execution_count": 24,
   "metadata": {},
   "outputs": [
    {
     "name": "stdout",
     "output_type": "stream",
     "text": [
      "Breast Cancer Wisconsin (Diagnostic) Database\n",
      "=============================================\n",
      "\n",
      "Notes\n",
      "-----\n",
      "Data Set Characteristics:\n",
      "    :Number of Instances: 569\n",
      "\n",
      "    :Number of Attributes: 30 numeric, predictive attributes and the class\n",
      "\n",
      "    :Attribute Information:\n",
      "        - radius (mean of distances from center to points on the perimeter)\n",
      "        - texture (standard deviation of gray-scale values)\n",
      "        - perimeter\n",
      "        - area\n",
      "        - smoothness (local variation in radius lengths)\n",
      "        - compactness (perimeter^2 / area - 1.0)\n",
      "        - concavity (severity of concave portions of the contour)\n",
      "        - concave points (number of concave portions of the contour)\n",
      "        - symmetry \n",
      "        - fractal dimension (\"coastline approximation\" - 1)\n",
      "\n",
      "        The mean, standard error, and \"worst\" or largest (mean of the three\n",
      "        largest values) of these features were computed for each image,\n",
      "        resulting in 30 features.  For instance, field 3 is Mean Radius, field\n",
      "        13 is Radius SE, field 23 is Worst Radius.\n",
      "\n",
      "        - class:\n",
      "                - WDBC-Malignant\n",
      "                - WDBC-Benign\n",
      "\n",
      "    :Summary Statistics:\n",
      "\n",
      "    ===================================== ====== ======\n",
      "                                           Min    Max\n",
      "    ===================================== ====== ======\n",
      "    radius (mean):                        6.981  28.11\n",
      "    texture (mean):                       9.71   39.28\n",
      "    perimeter (mean):                     43.79  188.5\n",
      "    area (mean):                          143.5  2501.0\n",
      "    smoothness (mean):                    0.053  0.163\n",
      "    compactness (mean):                   0.019  0.345\n",
      "    concavity (mean):                     0.0    0.427\n",
      "    concave points (mean):                0.0    0.201\n",
      "    symmetry (mean):                      0.106  0.304\n",
      "    fractal dimension (mean):             0.05   0.097\n",
      "    radius (standard error):              0.112  2.873\n",
      "    texture (standard error):             0.36   4.885\n",
      "    perimeter (standard error):           0.757  21.98\n",
      "    area (standard error):                6.802  542.2\n",
      "    smoothness (standard error):          0.002  0.031\n",
      "    compactness (standard error):         0.002  0.135\n",
      "    concavity (standard error):           0.0    0.396\n",
      "    concave points (standard error):      0.0    0.053\n",
      "    symmetry (standard error):            0.008  0.079\n",
      "    fractal dimension (standard error):   0.001  0.03\n",
      "    radius (worst):                       7.93   36.04\n",
      "    texture (worst):                      12.02  49.54\n",
      "    perimeter (worst):                    50.41  251.2\n",
      "    area (worst):                         185.2  4254.0\n",
      "    smoothness (worst):                   0.071  0.223\n",
      "    compactness (worst):                  0.027  1.058\n",
      "    concavity (worst):                    0.0    1.252\n",
      "    concave points (worst):               0.0    0.291\n",
      "    symmetry (worst):                     0.156  0.664\n",
      "    fractal dimension (worst):            0.055  0.208\n",
      "    ===================================== ====== ======\n",
      "\n",
      "    :Missing Attribute Values: None\n",
      "\n",
      "    :Class Distribution: 212 - Malignant, 357 - Benign\n",
      "\n",
      "    :Creator:  Dr. William H. Wolberg, W. Nick Street, Olvi L. Mangasarian\n",
      "\n",
      "    :Donor: Nick Street\n",
      "\n",
      "    :Date: November, 1995\n",
      "\n",
      "This is a copy of UCI ML Breast Cancer Wisconsin (Diagnostic) datasets.\n",
      "https://goo.gl/U2Uwz2\n",
      "\n",
      "Features are computed from a digitized image of a fine needle\n",
      "aspirate (FNA) of a breast mass.  They describe\n",
      "characteristics of the cell nuclei present in the image.\n",
      "\n",
      "Separating plane described above was obtained using\n",
      "Multisurface Method-Tree (MSM-T) [K. P. Bennett, \"Decision Tree\n",
      "Construction Via Linear Programming.\" Proceedings of the 4th\n",
      "Midwest Artificial Intelligence and Cognitive Science Society,\n",
      "pp. 97-101, 1992], a classification method which uses linear\n",
      "programming to construct a decision tree.  Relevant features\n",
      "were selected using an exhaustive search in the space of 1-4\n",
      "features and 1-3 separating planes.\n",
      "\n",
      "The actual linear program used to obtain the separating plane\n",
      "in the 3-dimensional space is that described in:\n",
      "[K. P. Bennett and O. L. Mangasarian: \"Robust Linear\n",
      "Programming Discrimination of Two Linearly Inseparable Sets\",\n",
      "Optimization Methods and Software 1, 1992, 23-34].\n",
      "\n",
      "This database is also available through the UW CS ftp server:\n",
      "\n",
      "ftp ftp.cs.wisc.edu\n",
      "cd math-prog/cpo-dataset/machine-learn/WDBC/\n",
      "\n",
      "References\n",
      "----------\n",
      "   - W.N. Street, W.H. Wolberg and O.L. Mangasarian. Nuclear feature extraction \n",
      "     for breast tumor diagnosis. IS&T/SPIE 1993 International Symposium on \n",
      "     Electronic Imaging: Science and Technology, volume 1905, pages 861-870,\n",
      "     San Jose, CA, 1993.\n",
      "   - O.L. Mangasarian, W.N. Street and W.H. Wolberg. Breast cancer diagnosis and \n",
      "     prognosis via linear programming. Operations Research, 43(4), pages 570-577, \n",
      "     July-August 1995.\n",
      "   - W.H. Wolberg, W.N. Street, and O.L. Mangasarian. Machine learning techniques\n",
      "     to diagnose breast cancer from fine-needle aspirates. Cancer Letters 77 (1994) \n",
      "     163-171.\n",
      "\n"
     ]
    }
   ],
   "source": [
    "from sklearn import datasets\n",
    "cancer=datasets.load_breast_cancer()\n",
    "\n",
    "from sklearn.model_selection import train_test_split\n",
    "x_train,x_test,y_train,y_test=train_test_split(cancer.data,cancer.target,test_size=0.2,random_state=1)\n",
    "print(cancer.DESCR)\n",
    "from sklearn.preprocessing import  StandardScaler\n",
    "ss=StandardScaler()\n",
    "\n",
    "x_train=ss.fit_transform(x_train)\n",
    "x_test=ss.fit_transform(x_test)"
   ]
  },
  {
   "cell_type": "markdown",
   "metadata": {},
   "source": [
    "# Applying fit function and then calculating the testing score"
   ]
  },
  {
   "cell_type": "code",
   "execution_count": 25,
   "metadata": {},
   "outputs": [
    {
     "name": "stdout",
     "output_type": "stream",
     "text": [
      "Train on 455 samples, validate on 114 samples\n",
      "Epoch 1/35\n",
      "455/455 [==============================] - 0s 62us/step - loss: 0.0400 - acc: 0.9934 - val_loss: 0.0639 - val_acc: 0.9737\n",
      "Epoch 2/35\n",
      "455/455 [==============================] - 0s 79us/step - loss: 0.0394 - acc: 0.9934 - val_loss: 0.0634 - val_acc: 0.9737\n",
      "Epoch 3/35\n",
      "455/455 [==============================] - 0s 79us/step - loss: 0.0387 - acc: 0.9934 - val_loss: 0.0630 - val_acc: 0.9737\n",
      "Epoch 4/35\n",
      "455/455 [==============================] - 0s 81us/step - loss: 0.0381 - acc: 0.9934 - val_loss: 0.0632 - val_acc: 0.9737\n",
      "Epoch 5/35\n",
      "455/455 [==============================] - 0s 92us/step - loss: 0.0372 - acc: 0.9934 - val_loss: 0.0635 - val_acc: 0.9737\n",
      "Epoch 6/35\n",
      "455/455 [==============================] - 0s 88us/step - loss: 0.0366 - acc: 0.9934 - val_loss: 0.0632 - val_acc: 0.9737\n",
      "Epoch 7/35\n",
      "455/455 [==============================] - 0s 57us/step - loss: 0.0362 - acc: 0.9934 - val_loss: 0.0634 - val_acc: 0.9737\n",
      "Epoch 8/35\n",
      "455/455 [==============================] - 0s 77us/step - loss: 0.0358 - acc: 0.9934 - val_loss: 0.0632 - val_acc: 0.9737\n",
      "Epoch 9/35\n",
      "455/455 [==============================] - 0s 81us/step - loss: 0.0352 - acc: 0.9934 - val_loss: 0.0632 - val_acc: 0.9737\n",
      "Epoch 10/35\n",
      "455/455 [==============================] - 0s 81us/step - loss: 0.0346 - acc: 0.9934 - val_loss: 0.0635 - val_acc: 0.9737\n",
      "Epoch 11/35\n",
      "455/455 [==============================] - 0s 79us/step - loss: 0.0344 - acc: 0.9934 - val_loss: 0.0628 - val_acc: 0.9737\n",
      "Epoch 12/35\n",
      "455/455 [==============================] - 0s 75us/step - loss: 0.0336 - acc: 0.9934 - val_loss: 0.0634 - val_acc: 0.9737\n",
      "Epoch 13/35\n",
      "455/455 [==============================] - 0s 84us/step - loss: 0.0333 - acc: 0.9934 - val_loss: 0.0628 - val_acc: 0.9737\n",
      "Epoch 14/35\n",
      "455/455 [==============================] - 0s 79us/step - loss: 0.0326 - acc: 0.9934 - val_loss: 0.0635 - val_acc: 0.9737\n",
      "Epoch 15/35\n",
      "455/455 [==============================] - 0s 77us/step - loss: 0.0319 - acc: 0.9934 - val_loss: 0.0637 - val_acc: 0.9737\n",
      "Epoch 16/35\n",
      "455/455 [==============================] - 0s 81us/step - loss: 0.0314 - acc: 0.9934 - val_loss: 0.0632 - val_acc: 0.9737\n",
      "Epoch 17/35\n",
      "455/455 [==============================] - 0s 79us/step - loss: 0.0308 - acc: 0.9934 - val_loss: 0.0639 - val_acc: 0.9737\n",
      "Epoch 18/35\n",
      "455/455 [==============================] - 0s 79us/step - loss: 0.0309 - acc: 0.9934 - val_loss: 0.0639 - val_acc: 0.9737\n",
      "Epoch 19/35\n",
      "455/455 [==============================] - 0s 81us/step - loss: 0.0306 - acc: 0.9934 - val_loss: 0.0631 - val_acc: 0.9737\n",
      "Epoch 20/35\n",
      "455/455 [==============================] - 0s 79us/step - loss: 0.0298 - acc: 0.9934 - val_loss: 0.0635 - val_acc: 0.9737\n",
      "Epoch 21/35\n",
      "455/455 [==============================] - 0s 77us/step - loss: 0.0292 - acc: 0.9934 - val_loss: 0.0648 - val_acc: 0.9737\n",
      "Epoch 22/35\n",
      "455/455 [==============================] - 0s 73us/step - loss: 0.0287 - acc: 0.9934 - val_loss: 0.0640 - val_acc: 0.9737\n",
      "Epoch 23/35\n",
      "455/455 [==============================] - 0s 79us/step - loss: 0.0280 - acc: 0.9934 - val_loss: 0.0633 - val_acc: 0.9737\n",
      "Epoch 24/35\n",
      "455/455 [==============================] - 0s 77us/step - loss: 0.0278 - acc: 0.9934 - val_loss: 0.0634 - val_acc: 0.9737\n",
      "Epoch 25/35\n",
      "455/455 [==============================] - 0s 81us/step - loss: 0.0272 - acc: 0.9934 - val_loss: 0.0639 - val_acc: 0.9737\n",
      "Epoch 26/35\n",
      "455/455 [==============================] - 0s 66us/step - loss: 0.0265 - acc: 0.9934 - val_loss: 0.0641 - val_acc: 0.9737\n",
      "Epoch 27/35\n",
      "455/455 [==============================] - 0s 59us/step - loss: 0.0261 - acc: 0.9934 - val_loss: 0.0648 - val_acc: 0.9737\n",
      "Epoch 28/35\n",
      "455/455 [==============================] - 0s 73us/step - loss: 0.0259 - acc: 0.9934 - val_loss: 0.0646 - val_acc: 0.9737\n",
      "Epoch 29/35\n",
      "455/455 [==============================] - 0s 77us/step - loss: 0.0253 - acc: 0.9934 - val_loss: 0.0646 - val_acc: 0.9737\n",
      "Epoch 30/35\n",
      "455/455 [==============================] - 0s 75us/step - loss: 0.0249 - acc: 0.9934 - val_loss: 0.0648 - val_acc: 0.9737\n",
      "Epoch 31/35\n",
      "455/455 [==============================] - 0s 62us/step - loss: 0.0245 - acc: 0.9934 - val_loss: 0.0641 - val_acc: 0.9737\n",
      "Epoch 32/35\n",
      "455/455 [==============================] - 0s 77us/step - loss: 0.0243 - acc: 0.9934 - val_loss: 0.0651 - val_acc: 0.9737\n",
      "Epoch 33/35\n",
      "455/455 [==============================] - 0s 75us/step - loss: 0.0232 - acc: 0.9956 - val_loss: 0.0651 - val_acc: 0.9737\n",
      "Epoch 34/35\n",
      "455/455 [==============================] - 0s 81us/step - loss: 0.0231 - acc: 0.9934 - val_loss: 0.0664 - val_acc: 0.9737\n",
      "Epoch 35/35\n",
      "455/455 [==============================] - 0s 62us/step - loss: 0.0225 - acc: 0.9934 - val_loss: 0.0660 - val_acc: 0.9737\n"
     ]
    },
    {
     "data": {
      "text/plain": [
       "<keras.callbacks.History at 0x731d115828>"
      ]
     },
     "execution_count": 25,
     "metadata": {},
     "output_type": "execute_result"
    }
   ],
   "source": [
    "model.fit(x_train,y_train,epochs=35,batch_size=35,validation_data=(x_test,y_test))"
   ]
  },
  {
   "cell_type": "code",
   "execution_count": 26,
   "metadata": {},
   "outputs": [
    {
     "name": "stdout",
     "output_type": "stream",
     "text": [
      "114/114 [==============================] - 0s 53us/step\n"
     ]
    },
    {
     "data": {
      "text/plain": [
       "[0.06597442676623662, 0.9736842105263158]"
      ]
     },
     "execution_count": 26,
     "metadata": {},
     "output_type": "execute_result"
    }
   ],
   "source": [
    "predictions=model.predict(x_test)\n",
    "predictions\n",
    "score=model.evaluate(x_test,y_test)\n",
    "score"
   ]
  }
 ],
 "metadata": {
  "kernelspec": {
   "display_name": "Python 3",
   "language": "python",
   "name": "python3"
  },
  "language_info": {
   "codemirror_mode": {
    "name": "ipython",
    "version": 3
   },
   "file_extension": ".py",
   "mimetype": "text/x-python",
   "name": "python",
   "nbconvert_exporter": "python",
   "pygments_lexer": "ipython3",
   "version": "3.6.5"
  }
 },
 "nbformat": 4,
 "nbformat_minor": 2
}
